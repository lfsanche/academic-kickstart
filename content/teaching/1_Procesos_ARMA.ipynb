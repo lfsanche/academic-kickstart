{
 "cells": [
  {
   "cell_type": "markdown",
   "metadata": {},
   "source": [
    "Referencias Bibliografica\n",
    "\n",
    "Capitulo 2 de Walter Enders Applied Time Series Econometrics"
   ]
  },
  {
   "cell_type": "markdown",
   "metadata": {
    "slideshow": {
     "slide_type": "skip"
    }
   },
   "source": [
    "# Introducción\n",
    "\n",
    "La econometría se puede utilizar para responder muchas preguntas prácticas en economía y finanzas:\n",
    "\n",
    "- Suponga que es dueño de un negocio. ¿Cómo podría utilizar los datos de ventas mensuales de los últimos 10 años para predecir las ventas del próximo mes?\n",
    "- Desea probar si se cumple la \"hipótesis de ingresos permanentes\". ¿Puedes ver si el gasto de consumo es una fracción relativamente constante del ingreso nacional?\n",
    "- Eres un investigador financiero. Desea determinar si los precios del oro afectan los precios de las acciones, o viceversa. ¿Existe una relación entre estas variables? Si es así, ¿puedes usarlo para ganar dinero?\n",
    "\n",
    "La respuesta a cada una de estas preguntas requiere aparatos estadísticos ligeramente diferentes, pero todos se encuentran bajo el paraguas de la \"econometría de series de tiempo\".\n",
    "\n",
    "<font color=blue>¿Por qué la econometría de series de tiempo es diferente?</font>\n",
    "\n",
    "Considere las diferencias en los dos paneles de la figura 1. El panel (a) muestra datos transversales y el panel (b) muestra datos de series temporales. La econometría de las _secciones transversales_, se basa en el hecho de que las observaciones son independientes. Si tomamos una muestra de personas y preguntamos si están desempleadas hoy, obtendremos una mezcla de respuestas. Y a pesar de que podríamos estar en un período particularmente malo en la economía, es probable que el estado de desempleo de una persona no afecte la de otra persona. Pero si estamos enfocados en la tasa de desempleo, año tras año, entonces el desempeño de este año probablemente esté influenciado por la economía del año pasado. Las observaciones en _series temporales_ casi __nunca son independientes__. Por lo general, una observación se correlaciona con la observación anterior.\n",
    "\n",
    "<img src=\"fig1.png\">[1](#Notas)\n",
    "\n",
    "\n",
    "## Notación\n",
    "\n",
    "Las variables aleatorias se denotarán con letras mayúsculas (X, Y, Z). Las realizaciones particulares de la variable aleatoria tomarán letras minúsculas (x, y, z). El valor de X en un período de tiempo particular t, se denominará $X_t$ o $x_t$. Los parámetros desconocidos se denotarán con letras griegas como: $\\beta$, $\\gamma$, $\\mu$. Las estimaciones de estos parámetros se denotarán con la notación $\\hat{}$ (ej: $\\hat{\\beta}$). A veces hablaremos de un __lag operator__, que pensarse como una funcion que rezage el valor de la variable $X_t$ y le da el valor de $X_{t−1}$.\n",
    "\n"
   ]
  },
  {
   "cell_type": "markdown",
   "metadata": {
    "slideshow": {
     "slide_type": "slide"
    }
   },
   "source": [
    "# Importar librerias"
   ]
  },
  {
   "cell_type": "code",
   "execution_count": 1,
   "metadata": {
    "slideshow": {
     "slide_type": "subslide"
    }
   },
   "outputs": [
    {
     "data": {
      "text/plain": [
       "<function statsmodels.tsa.arima_process.arma_impulse_response(ar, ma, leads=100)>"
      ]
     },
     "execution_count": 1,
     "metadata": {},
     "output_type": "execute_result"
    }
   ],
   "source": [
    "import pandas as pd\n",
    "import statsmodels.api as sm\n",
    "import statsmodels.tsa as tsa\n",
    "import matplotlib.pyplot as plt \n",
    "%matplotlib inline\n",
    "\n",
    "tsa.arima_process.arma_impulse_response"
   ]
  },
  {
   "cell_type": "markdown",
   "metadata": {
    "slideshow": {
     "slide_type": "slide"
    }
   },
   "source": [
    "# Procesos ARMA(p,q)"
   ]
  },
  {
   "cell_type": "markdown",
   "metadata": {
    "slideshow": {
     "slide_type": "skip"
    }
   },
   "source": [
    "## Introduccion\n",
    "\n",
    "Tomado de Levendis, 2018\n",
    "\n",
    "*Por muchos años los economistas deseaban modelar la economia en su conjunto. Uno con cientos de ecuaciones de oferta y demanda. Un sistema de oferta y demanda para cada insumo, bienes intermedio y producto final. Uno solo necesitaría estimar las elasticidades relevantes y algunos parámetros simples para construir una bola de cristal económica. Sería capaz de hacer pronósticos precisos y prescripciones de políticas útiles. La mayoría de los economistas deseaban esto en un momento. Sin embargo, lentamente, la era del optimismo en el pronóstico macroeconómico estructural durante las décadas de 1950 y 1960 se convirtió en una era de dudas durante las décadas de 1970 y 1980.\n",
    "\n",
    "*La Comisión Cowles tipificó el enfoque de sistemas de ecuaciones a gran escala para el pronóstico macroeconómico. Fundada en 1932 y actualmente en la Universidad de Yale, cuenta con el personal de los mejores y más brillantes economistas y estadísticos. Tres economistas obtuvieron sus Premios Nobel por la investigación directamente asociada con el proyecto econométrico en la Comisión Cowles: Tjalling Koopmans (en 1975), Lawrence Klein (en 1980) y Trygve Haavelmo (en 1989).\n",
    "En su apogeo, el modelo Cowles consistía en casi cuatrocientas ecuaciones. Durante décadas fue el método de elección para el pronóstico económico y el análisis de políticas.Pero en la década de 1970, los economistas comenzaron a tener dudas sobre la empresa. Varios factores trabajaron para terminar con el dominio del enfoque de la Comisión Cowles.\n",
    "\n",
    "*Primero, los modelos dejaron de funcionar bien. Para repararlos, los economistas comenzaron a agregar términos ad-hoc a las ecuaciones. En segundo lugar, Lucas (1976) realizó una poderosa crítica teórica. Argumentó que los parámetros estimados para cada una de las ecuaciones no eran estructurales. Por ejemplo, podrían haber estimado que la propensión marginal al consumo, en una función de consumo lineal, era, por ejemplo, 0,80. Es decir, en promedio las personas consumen el 80% de sus ingresos. Lucas argumentó que esta podría ser la cantidad óptima de consumo debido a un conjunto particular de políticas fiscales o monetarias. Cambie la estructura tributaria y las personas cambiarán su comportamiento. Los modelos, entonces, no son útiles en absoluto para el análisis de políticas, solo para pronosticar dentro de un régimen de políticas invariable.\n",
    "\n",
    "*Tercero, una serie de documentos revelaron que los modelos econométricos a gran escala fueron superados por modelos mucho más simples. Estos modelos simples, llamados modelos ARIMA. Naylor y col. (1972) descubrieron que ARIMA superó en un 50% el modelo más complejo de Wharton al pronosticar el PNB, desempleo, inflación e inversión. Cooper (1972) comparó modelos AR aún más simples con la capacidad de pronóstico de siete modelos líderes a gran escala. Para casi todas las treinta y una variables que examinó, los modelos más simples fueron superiores.\n",
    "\n",
    "*Nelson (1972) examinó críticamente el desempeño de un modelo a gran escala desarrollado conjuntamente por el Banco de la Reserva Federal, el MIT y la Universidad de Pennsylvania. Para 1972, el modelo FRB-MIT-Penn utilizaba 518 parámetros para investigar 270 variables económicas (Ando et al. 1972). De hecho, Nelson demostró que este modelo complejo fue superado por el más simple de los modelos de series temporales.\n",
    "\n",
    "Un modelo ARIMA se compone de dos componentes: un modelo autorregresivo (AR) y un modelo de media móvil (MA). Ambos se basan en datos anteriores para ayudar a predecir resultados futuros. Los modelos AR y MA son los componentes básicos de todo nuestro trabajo futuro en este curso. \n",
    "\n",
    "### Estacionariedad\n",
    "\n",
    "Para utilizar los modelos AR y MA, los datos deben ser \"estacionarios\". Suponga que tiene una serie de tiempo en una variable, $X$, que está indexada por un subíndice de tiempo $t$, de modo que $X_t$ = $X_0$, $X_1$, $X_2$, etc. Entonces $X$ es \"estacionario en media\" si el valor esperado de X en un momento particular no depende del período de tiempo particular en el que se observa. Por lo tanto, la expectativa incondicional de X no es una función del período de tiempo t:\n",
    "\n",
    "$E(X_t) = E(X_1) = E(X_2) = ... = E(X)= μ$\n",
    "\n",
    "Del mismo modo, se dice que X tiene\"varianza estacionaria\" si su varianza no es una función del tiempo, de modo que:\n",
    "\n",
    "$Var(X_t) =Var(X_1) = Var(X_2) = ... = Var(X)= \\sigma^2$\n",
    "\n",
    "<img src=\"fig2.png\">\n",
    "\n",
    "La figura previa ilustra una serie temporal que es estacionaria media (vuelve a su valor promedio) pero no es estacionaria (su varianza fluctúa con el tiempo con períodos de alta volatilidad y baja volatilidad).\n",
    "\n",
    "Finalmente, X es \"covarianza estacionaria\" si la covarianza de X con sus propios valores rezagados depende solo de la longitud del rezago, pero no del período de tiempo específico ni de la dirección del rezago. Simbólicamente, para un rezago,\n",
    "\n",
    "$Cov(X_t, X_{t + 1}) = Cov(X_{t − 1}, X_t)$\n",
    "\n",
    "y para todas las longitudes de rezago de k,\n",
    "\n",
    "$Cov(X_t, X_{t + k}) = Cov(X_{t + 1}, X_{t + k + 1}) = Cov (X_{t − 1}, X_{t + k − 1})$\n",
    "\n",
    "Un ejemplo de una serie temporal que no es covarianza estacionaria es aquella en la que hay estacionalidad, con el tamaño de la estacionalidad fluctuando con el tiempo.\n",
    "\n",
    "<img src=\"fig3.png\">\n",
    "\n",
    "\n",
    "La figura 3 ilustra un ejemplo diferente de una serie temporal que no es covarianza estacionaria. En este ejemplo, cada valor de X está débilmente correlacionado con su valor anterior, al menos en los tercios primero y final del conjunto de datos. Sin embargo, en el tercio medio, cada valor de X está perfectamente correlacionado con su valor anterior. Esto implica que su varianza tampoco es estacionaria, ya que la varianza en el tercio medio es cero.\n",
    "\n",
    "### Un proceso puramente aleatorio\n",
    "\n",
    "Suponga que usted es el gerente de un casino, y uno de sus trabajos es rastrear y predecir el flujo de efectivo hacia y desde el casino. ¿Cuánto efectivo tendrá a mano el martes de la próxima semana? Supongamos que tiene datos diarios que se remontan a los últimos 1000 días.\n",
    "\n",
    "Deje que Xt denote el flujo neto de efectivo en el casino el día t. ¿Podemos predecir el flujo de caja de mañana $X_{t + 1}$, dado lo que sucedió hoy $X_t$, ayer $X_{t − 1}$ y antes? Considere un modelo de la siguiente forma \n",
    "\n",
    "$X_t = e_t$\n",
    "\n",
    "donde los errores se distribuyen normalmente con media de cero y varianza de uno, $e_t \\sim iidN(0,1)$ en todos los periodos de tiempo. En otras palabras, **X es solo un error aleatorio puro**. Este no es un modelo muy útil, ni siquiera preciso, de los flujos de efectivo de un casino, pero es un punto de partida útil pedagógicamente. El flujo de caja de cada día es completamente independiente del flujo de los días anteriores y, además, la cantidad de dinero que ingresa al casino se compensa, en promedio, por la salida de efectivo. En otras palabras, el flujo de efectivo promedio es cero. Es decir,\n",
    "\n",
    "$E(X_t) = E(e_t) = 0$\n",
    "\n",
    "ya que la media de $e_t$ es cero para todo t. Este proceso es estacionario medio: el valor esperado de X es cero, sin importar en qué período de tiempo estemos. Este proceso también es estacionario, porque $V(X_t) = V(e_t) = 1$ para todo t. Y dado que los $X_t's$ son solo sorteos independientes de la misma distribución, no están correlacionados entre sí; así, $Cov(X_t , X_{t − k}) = 0$ haciendo que la covarianza X sea estacionaria.\n",
    "\n",
    "Ejemplo: $X_t=\\beta_0+e_t$, es estacionario?"
   ]
  },
  {
   "cell_type": "markdown",
   "metadata": {
    "slideshow": {
     "slide_type": "slide"
    }
   },
   "source": [
    "# Modelo AR(1)\n",
    "\n",
    "Considere, ahora, un tipo diferente de modelo:\n",
    "\n",
    "$X_t = \\beta_1 X_{t-1} + e_t$\n",
    "\n",
    "La realización actual de X depende del valor de la parte X del último período más algún error aleatorio. Si tuviéramos que estimar este modelo, retrocederíamos X en sí mismo (retrasado un período). Es por esto que el modelo se llama \"modelo autorregresivo con un rezago\" o \"AR (1)\" para abreviar. Una autorregresión es una regresión de una variable en sí misma."
   ]
  },
  {
   "cell_type": "markdown",
   "metadata": {
    "slideshow": {
     "slide_type": "skip"
    }
   },
   "source": [
    "## Estimación de un modelo AR (1)\n",
    "\n",
    "Uno de los atractivos de los modelos AR es que son bastante fáciles de estimar. Un modelo AR (1) consiste en X regresado en su primer retraso. Como se expresa en la ecuación previa. No hay una constante en el modelo."
   ]
  },
  {
   "cell_type": "markdown",
   "metadata": {
    "slideshow": {
     "slide_type": "slide"
    }
   },
   "source": [
    "### Ejemplo PIB Ecuador"
   ]
  },
  {
   "cell_type": "code",
   "execution_count": 2,
   "metadata": {
    "slideshow": {
     "slide_type": "subslide"
    }
   },
   "outputs": [],
   "source": [
    "# Importar data\n",
    "df1 = pd.read_csv(r'CTASTRIM110.csv',header=0, parse_dates=True,squeeze=True)\n",
    "df1.index = pd.period_range('2000Q1', '2019Q4', freq='Q')"
   ]
  },
  {
   "cell_type": "code",
   "execution_count": 3,
   "metadata": {
    "slideshow": {
     "slide_type": "subslide"
    }
   },
   "outputs": [
    {
     "data": {
      "text/html": [
       "<div>\n",
       "<style scoped>\n",
       "    .dataframe tbody tr th:only-of-type {\n",
       "        vertical-align: middle;\n",
       "    }\n",
       "\n",
       "    .dataframe tbody tr th {\n",
       "        vertical-align: top;\n",
       "    }\n",
       "\n",
       "    .dataframe thead th {\n",
       "        text-align: right;\n",
       "    }\n",
       "</style>\n",
       "<table border=\"1\" class=\"dataframe\">\n",
       "  <thead>\n",
       "    <tr style=\"text-align: right;\">\n",
       "      <th></th>\n",
       "      <th>year</th>\n",
       "      <th>quarter</th>\n",
       "      <th>datetime</th>\n",
       "      <th>agricultura</th>\n",
       "      <th>acuicultura y camaron</th>\n",
       "      <th>pesca</th>\n",
       "      <th>petroleo y minas</th>\n",
       "      <th>refinacion petroleo</th>\n",
       "      <th>manufactura</th>\n",
       "      <th>electricidad y agua</th>\n",
       "      <th>construccion</th>\n",
       "      <th>servicios financieros</th>\n",
       "      <th>pib</th>\n",
       "      <th>Unnamed: 13</th>\n",
       "    </tr>\n",
       "  </thead>\n",
       "  <tbody>\n",
       "    <tr>\n",
       "      <th>2017Q3</th>\n",
       "      <td>2017</td>\n",
       "      <td>3</td>\n",
       "      <td>2017q3</td>\n",
       "      <td>1401927</td>\n",
       "      <td>194346</td>\n",
       "      <td>109178</td>\n",
       "      <td>1691619</td>\n",
       "      <td>167118</td>\n",
       "      <td>2071107</td>\n",
       "      <td>493213</td>\n",
       "      <td>1539551</td>\n",
       "      <td>592753</td>\n",
       "      <td>17819405</td>\n",
       "      <td>0.007545</td>\n",
       "    </tr>\n",
       "    <tr>\n",
       "      <th>2017Q4</th>\n",
       "      <td>2017</td>\n",
       "      <td>4</td>\n",
       "      <td>2017q4</td>\n",
       "      <td>1426246</td>\n",
       "      <td>203130</td>\n",
       "      <td>108448</td>\n",
       "      <td>1650212</td>\n",
       "      <td>161840</td>\n",
       "      <td>2086730</td>\n",
       "      <td>513356</td>\n",
       "      <td>1536344</td>\n",
       "      <td>594244</td>\n",
       "      <td>17952383</td>\n",
       "      <td>0.007463</td>\n",
       "    </tr>\n",
       "    <tr>\n",
       "      <th>2018Q1</th>\n",
       "      <td>2018</td>\n",
       "      <td>1</td>\n",
       "      <td>2018q1</td>\n",
       "      <td>1413785</td>\n",
       "      <td>200556</td>\n",
       "      <td>108472</td>\n",
       "      <td>1540581</td>\n",
       "      <td>160965</td>\n",
       "      <td>2078652</td>\n",
       "      <td>516112</td>\n",
       "      <td>1565406</td>\n",
       "      <td>577019</td>\n",
       "      <td>17762564</td>\n",
       "      <td>-0.010573</td>\n",
       "    </tr>\n",
       "    <tr>\n",
       "      <th>2018Q2</th>\n",
       "      <td>2018</td>\n",
       "      <td>2</td>\n",
       "      <td>2018q2</td>\n",
       "      <td>1391186</td>\n",
       "      <td>201055</td>\n",
       "      <td>114906</td>\n",
       "      <td>1546777</td>\n",
       "      <td>159595</td>\n",
       "      <td>2092999</td>\n",
       "      <td>514067</td>\n",
       "      <td>1574345</td>\n",
       "      <td>591447</td>\n",
       "      <td>17943194</td>\n",
       "      <td>0.010169</td>\n",
       "    </tr>\n",
       "    <tr>\n",
       "      <th>2018Q3</th>\n",
       "      <td>2018</td>\n",
       "      <td>3</td>\n",
       "      <td>2018q3</td>\n",
       "      <td>1366476</td>\n",
       "      <td>202366</td>\n",
       "      <td>114688</td>\n",
       "      <td>1590233</td>\n",
       "      <td>174837</td>\n",
       "      <td>2096726</td>\n",
       "      <td>514090</td>\n",
       "      <td>1553522</td>\n",
       "      <td>613985</td>\n",
       "      <td>18080826</td>\n",
       "      <td>0.007670</td>\n",
       "    </tr>\n",
       "    <tr>\n",
       "      <th>2018Q4</th>\n",
       "      <td>2018</td>\n",
       "      <td>4</td>\n",
       "      <td>2018q4</td>\n",
       "      <td>1369397</td>\n",
       "      <td>210752</td>\n",
       "      <td>113114</td>\n",
       "      <td>1581110</td>\n",
       "      <td>156829</td>\n",
       "      <td>2095890</td>\n",
       "      <td>498388</td>\n",
       "      <td>1501173</td>\n",
       "      <td>623886</td>\n",
       "      <td>18083933</td>\n",
       "      <td>0.000172</td>\n",
       "    </tr>\n",
       "    <tr>\n",
       "      <th>2019Q1</th>\n",
       "      <td>2019</td>\n",
       "      <td>1</td>\n",
       "      <td>2019q1</td>\n",
       "      <td>1394325</td>\n",
       "      <td>222482</td>\n",
       "      <td>117164</td>\n",
       "      <td>1582616</td>\n",
       "      <td>139184</td>\n",
       "      <td>2109667</td>\n",
       "      <td>545837</td>\n",
       "      <td>1476298</td>\n",
       "      <td>621668</td>\n",
       "      <td>17957733</td>\n",
       "      <td>-0.006979</td>\n",
       "    </tr>\n",
       "    <tr>\n",
       "      <th>2019Q2</th>\n",
       "      <td>2019</td>\n",
       "      <td>2</td>\n",
       "      <td>2019q2</td>\n",
       "      <td>1388267</td>\n",
       "      <td>230124</td>\n",
       "      <td>120455</td>\n",
       "      <td>1602148</td>\n",
       "      <td>125218</td>\n",
       "      <td>2132482</td>\n",
       "      <td>568869</td>\n",
       "      <td>1469861</td>\n",
       "      <td>632152</td>\n",
       "      <td>18028980</td>\n",
       "      <td>0.003967</td>\n",
       "    </tr>\n",
       "    <tr>\n",
       "      <th>2019Q3</th>\n",
       "      <td>2019</td>\n",
       "      <td>3</td>\n",
       "      <td>2019q3</td>\n",
       "      <td>1369858</td>\n",
       "      <td>229922</td>\n",
       "      <td>123511</td>\n",
       "      <td>1640124</td>\n",
       "      <td>132795</td>\n",
       "      <td>2141289</td>\n",
       "      <td>543705</td>\n",
       "      <td>1477438</td>\n",
       "      <td>633668</td>\n",
       "      <td>18022042</td>\n",
       "      <td>-0.000385</td>\n",
       "    </tr>\n",
       "    <tr>\n",
       "      <th>2019Q4</th>\n",
       "      <td>2019</td>\n",
       "      <td>4</td>\n",
       "      <td>2019q4</td>\n",
       "      <td>1391576</td>\n",
       "      <td>230959</td>\n",
       "      <td>108645</td>\n",
       "      <td>1582924</td>\n",
       "      <td>121985</td>\n",
       "      <td>2106138</td>\n",
       "      <td>575251</td>\n",
       "      <td>1451078</td>\n",
       "      <td>638864</td>\n",
       "      <td>17900370</td>\n",
       "      <td>-0.006751</td>\n",
       "    </tr>\n",
       "  </tbody>\n",
       "</table>\n",
       "</div>"
      ],
      "text/plain": [
       "        year  quarter datetime  agricultura  acuicultura y camaron   pesca  \\\n",
       "2017Q3  2017        3   2017q3      1401927                 194346  109178   \n",
       "2017Q4  2017        4   2017q4      1426246                 203130  108448   \n",
       "2018Q1  2018        1   2018q1      1413785                 200556  108472   \n",
       "2018Q2  2018        2   2018q2      1391186                 201055  114906   \n",
       "2018Q3  2018        3   2018q3      1366476                 202366  114688   \n",
       "2018Q4  2018        4   2018q4      1369397                 210752  113114   \n",
       "2019Q1  2019        1   2019q1      1394325                 222482  117164   \n",
       "2019Q2  2019        2   2019q2      1388267                 230124  120455   \n",
       "2019Q3  2019        3   2019q3      1369858                 229922  123511   \n",
       "2019Q4  2019        4   2019q4      1391576                 230959  108645   \n",
       "\n",
       "        petroleo y minas  refinacion petroleo  manufactura  \\\n",
       "2017Q3           1691619               167118      2071107   \n",
       "2017Q4           1650212               161840      2086730   \n",
       "2018Q1           1540581               160965      2078652   \n",
       "2018Q2           1546777               159595      2092999   \n",
       "2018Q3           1590233               174837      2096726   \n",
       "2018Q4           1581110               156829      2095890   \n",
       "2019Q1           1582616               139184      2109667   \n",
       "2019Q2           1602148               125218      2132482   \n",
       "2019Q3           1640124               132795      2141289   \n",
       "2019Q4           1582924               121985      2106138   \n",
       "\n",
       "        electricidad y agua  construccion  servicios financieros       pib  \\\n",
       "2017Q3               493213       1539551                 592753  17819405   \n",
       "2017Q4               513356       1536344                 594244  17952383   \n",
       "2018Q1               516112       1565406                 577019  17762564   \n",
       "2018Q2               514067       1574345                 591447  17943194   \n",
       "2018Q3               514090       1553522                 613985  18080826   \n",
       "2018Q4               498388       1501173                 623886  18083933   \n",
       "2019Q1               545837       1476298                 621668  17957733   \n",
       "2019Q2               568869       1469861                 632152  18028980   \n",
       "2019Q3               543705       1477438                 633668  18022042   \n",
       "2019Q4               575251       1451078                 638864  17900370   \n",
       "\n",
       "        Unnamed: 13  \n",
       "2017Q3     0.007545  \n",
       "2017Q4     0.007463  \n",
       "2018Q1    -0.010573  \n",
       "2018Q2     0.010169  \n",
       "2018Q3     0.007670  \n",
       "2018Q4     0.000172  \n",
       "2019Q1    -0.006979  \n",
       "2019Q2     0.003967  \n",
       "2019Q3    -0.000385  \n",
       "2019Q4    -0.006751  "
      ]
     },
     "execution_count": 3,
     "metadata": {},
     "output_type": "execute_result"
    }
   ],
   "source": [
    "df1.tail(10)"
   ]
  },
  {
   "cell_type": "code",
   "execution_count": 4,
   "metadata": {
    "slideshow": {
     "slide_type": "subslide"
    }
   },
   "outputs": [
    {
     "data": {
      "text/plain": [
       "80"
      ]
     },
     "execution_count": 4,
     "metadata": {},
     "output_type": "execute_result"
    }
   ],
   "source": [
    "# Numero de observaciones\n",
    "# df.shape\n",
    "len(df1)"
   ]
  },
  {
   "cell_type": "code",
   "execution_count": 5,
   "metadata": {
    "slideshow": {
     "slide_type": "subslide"
    }
   },
   "outputs": [
    {
     "data": {
      "text/plain": [
       "2000Q1     9134587\n",
       "2000Q2     9320414\n",
       "2000Q3     9548491\n",
       "2000Q4     9722918\n",
       "2001Q1     9699363\n",
       "            ...   \n",
       "2018Q4    18083933\n",
       "2019Q1    17957733\n",
       "2019Q2    18028980\n",
       "2019Q3    18022042\n",
       "2019Q4    17900370\n",
       "Freq: Q-DEC, Name: pib, Length: 80, dtype: int64"
      ]
     },
     "execution_count": 5,
     "metadata": {},
     "output_type": "execute_result"
    }
   ],
   "source": [
    "# Definir varibles\n",
    "pib = df1['pib']\n",
    "pib"
   ]
  },
  {
   "cell_type": "code",
   "execution_count": 6,
   "metadata": {
    "slideshow": {
     "slide_type": "subslide"
    }
   },
   "outputs": [
    {
     "data": {
      "text/plain": [
       "count    8.000000e+01\n",
       "mean     1.420461e+07\n",
       "std      2.987334e+06\n",
       "min      9.134587e+06\n",
       "25%      1.173623e+07\n",
       "50%      1.382472e+07\n",
       "75%      1.732823e+07\n",
       "max      1.808393e+07\n",
       "Name: pib, dtype: float64"
      ]
     },
     "execution_count": 6,
     "metadata": {},
     "output_type": "execute_result"
    }
   ],
   "source": [
    "pib.describe()\n",
    "# df['pib'].describe()"
   ]
  },
  {
   "cell_type": "code",
   "execution_count": 7,
   "metadata": {
    "slideshow": {
     "slide_type": "subslide"
    }
   },
   "outputs": [
    {
     "data": {
      "text/plain": [
       "<matplotlib.lines.Line2D at 0x11a8f2baac8>"
      ]
     },
     "execution_count": 7,
     "metadata": {},
     "output_type": "execute_result"
    },
    {
     "data": {
      "image/png": "[encoded data removed]",
      "text/plain": [
       "<Figure size 1080x360 with 1 Axes>"
      ]
     },
     "metadata": {
      "needs_background": "light"
     },
     "output_type": "display_data"
    }
   ],
   "source": [
    "pib.plot(figsize=(15, 5),c='y')\n",
    "plt.title(' Ecuador: PIB 2000q1 - 2019q4', c='g') \n",
    "plt.ylabel('Miles de US dólares, 2007=100') \n",
    "plt.axvline(x='2016-02-01',c='r')\n",
    "# plt.axvline(x='2015-03-01',c='r')"
   ]
  },
  {
   "cell_type": "code",
   "execution_count": 8,
   "metadata": {
    "slideshow": {
     "slide_type": "subslide"
    }
   },
   "outputs": [
    {
     "data": {
      "text/plain": [
       "<matplotlib.axes._subplots.AxesSubplot at 0x11a8f36c188>"
      ]
     },
     "execution_count": 8,
     "metadata": {},
     "output_type": "execute_result"
    },
    {
     "data": {
      "image/png": "[encoded data removed]",
      "text/plain": [
       "<Figure size 432x288 with 1 Axes>"
      ]
     },
     "metadata": {
      "needs_background": "light"
     },
     "output_type": "display_data"
    }
   ],
   "source": [
    "pd.plotting.lag_plot(pib)"
   ]
  },
  {
   "cell_type": "markdown",
   "metadata": {
    "slideshow": {
     "slide_type": "slide"
    }
   },
   "source": [
    "### Ejemplo IPC Ecuador"
   ]
  },
  {
   "cell_type": "code",
   "execution_count": 9,
   "metadata": {
    "slideshow": {
     "slide_type": "subslide"
    }
   },
   "outputs": [],
   "source": [
    "df2 = pd.read_csv(r'..\\Talleres\\ipc_ecu.csv',header=0)\n",
    "df2.index = pd.period_range('2000-01', '2020-05', freq='M')"
   ]
  },
  {
   "cell_type": "code",
   "execution_count": 10,
   "metadata": {
    "slideshow": {
     "slide_type": "subslide"
    }
   },
   "outputs": [
    {
     "data": {
      "text/html": [
       "<div>\n",
       "<style scoped>\n",
       "    .dataframe tbody tr th:only-of-type {\n",
       "        vertical-align: middle;\n",
       "    }\n",
       "\n",
       "    .dataframe tbody tr th {\n",
       "        vertical-align: top;\n",
       "    }\n",
       "\n",
       "    .dataframe thead th {\n",
       "        text-align: right;\n",
       "    }\n",
       "</style>\n",
       "<table border=\"1\" class=\"dataframe\">\n",
       "  <thead>\n",
       "    <tr style=\"text-align: right;\">\n",
       "      <th></th>\n",
       "      <th>year</th>\n",
       "      <th>month</th>\n",
       "      <th>ipc</th>\n",
       "    </tr>\n",
       "  </thead>\n",
       "  <tbody>\n",
       "    <tr>\n",
       "      <th>2000-01</th>\n",
       "      <td>2000</td>\n",
       "      <td>1</td>\n",
       "      <td>27.68</td>\n",
       "    </tr>\n",
       "    <tr>\n",
       "      <th>2000-02</th>\n",
       "      <td>2000</td>\n",
       "      <td>2</td>\n",
       "      <td>30.46</td>\n",
       "    </tr>\n",
       "    <tr>\n",
       "      <th>2000-03</th>\n",
       "      <td>2000</td>\n",
       "      <td>3</td>\n",
       "      <td>32.77</td>\n",
       "    </tr>\n",
       "    <tr>\n",
       "      <th>2000-04</th>\n",
       "      <td>2000</td>\n",
       "      <td>4</td>\n",
       "      <td>36.11</td>\n",
       "    </tr>\n",
       "    <tr>\n",
       "      <th>2000-05</th>\n",
       "      <td>2000</td>\n",
       "      <td>5</td>\n",
       "      <td>37.97</td>\n",
       "    </tr>\n",
       "  </tbody>\n",
       "</table>\n",
       "</div>"
      ],
      "text/plain": [
       "         year  month    ipc\n",
       "2000-01  2000      1  27.68\n",
       "2000-02  2000      2  30.46\n",
       "2000-03  2000      3  32.77\n",
       "2000-04  2000      4  36.11\n",
       "2000-05  2000      5  37.97"
      ]
     },
     "execution_count": 10,
     "metadata": {},
     "output_type": "execute_result"
    }
   ],
   "source": [
    "df2.head()"
   ]
  },
  {
   "cell_type": "code",
   "execution_count": 11,
   "metadata": {
    "slideshow": {
     "slide_type": "subslide"
    }
   },
   "outputs": [],
   "source": [
    "ipc = df2['ipc']"
   ]
  },
  {
   "cell_type": "code",
   "execution_count": 12,
   "metadata": {
    "slideshow": {
     "slide_type": "subslide"
    }
   },
   "outputs": [
    {
     "data": {
      "text/plain": [
       "Text(0, 0.5, 'Base 2014=100')"
      ]
     },
     "execution_count": 12,
     "metadata": {},
     "output_type": "execute_result"
    },
    {
     "data": {
      "image/png": "[encoded data removed]",
      "text/plain": [
       "<Figure size 1080x360 with 1 Axes>"
      ]
     },
     "metadata": {
      "needs_background": "light"
     },
     "output_type": "display_data"
    }
   ],
   "source": [
    "ipc.plot(figsize=(15, 5),c='k')\n",
    "plt.title('Ecuador: IPC 2000m1 - 2020m5q4', c='g') \n",
    "plt.ylabel('Base 2014=100') \n",
    "# plt.axvline(x='2013-03-01',c='r')\n",
    "# plt.axvline(x='2015-03-01',c='r')"
   ]
  },
  {
   "cell_type": "code",
   "execution_count": 13,
   "metadata": {
    "slideshow": {
     "slide_type": "subslide"
    }
   },
   "outputs": [
    {
     "data": {
      "text/plain": [
       "<matplotlib.axes._subplots.AxesSubplot at 0x11a8f46ff88>"
      ]
     },
     "execution_count": 13,
     "metadata": {},
     "output_type": "execute_result"
    },
    {
     "data": {
      "image/png": "[encoded data removed]",
      "text/plain": [
       "<Figure size 432x288 with 1 Axes>"
      ]
     },
     "metadata": {
      "needs_background": "light"
     },
     "output_type": "display_data"
    }
   ],
   "source": [
    "pd.plotting.lag_plot(ipc)"
   ]
  },
  {
   "cell_type": "markdown",
   "metadata": {
    "slideshow": {
     "slide_type": "slide"
    }
   },
   "source": [
    "### Ejemplo IPC US"
   ]
  },
  {
   "cell_type": "code",
   "execution_count": 14,
   "metadata": {
    "slideshow": {
     "slide_type": "subslide"
    }
   },
   "outputs": [],
   "source": [
    "macrodata = sm.datasets.macrodata.load_pandas().data\n",
    "macrodata.index = pd.period_range('1959Q1', '2009Q3', freq='Q')\n",
    "endog = macrodata['infl']"
   ]
  },
  {
   "cell_type": "code",
   "execution_count": 15,
   "metadata": {
    "slideshow": {
     "slide_type": "subslide"
    }
   },
   "outputs": [
    {
     "data": {
      "text/html": [
       "<div>\n",
       "<style scoped>\n",
       "    .dataframe tbody tr th:only-of-type {\n",
       "        vertical-align: middle;\n",
       "    }\n",
       "\n",
       "    .dataframe tbody tr th {\n",
       "        vertical-align: top;\n",
       "    }\n",
       "\n",
       "    .dataframe thead th {\n",
       "        text-align: right;\n",
       "    }\n",
       "</style>\n",
       "<table border=\"1\" class=\"dataframe\">\n",
       "  <thead>\n",
       "    <tr style=\"text-align: right;\">\n",
       "      <th></th>\n",
       "      <th>year</th>\n",
       "      <th>quarter</th>\n",
       "      <th>realgdp</th>\n",
       "      <th>realcons</th>\n",
       "      <th>realinv</th>\n",
       "      <th>realgovt</th>\n",
       "      <th>realdpi</th>\n",
       "      <th>cpi</th>\n",
       "      <th>m1</th>\n",
       "      <th>tbilrate</th>\n",
       "      <th>unemp</th>\n",
       "      <th>pop</th>\n",
       "      <th>infl</th>\n",
       "      <th>realint</th>\n",
       "    </tr>\n",
       "  </thead>\n",
       "  <tbody>\n",
       "    <tr>\n",
       "      <th>1959Q1</th>\n",
       "      <td>1959.0</td>\n",
       "      <td>1.0</td>\n",
       "      <td>2710.349</td>\n",
       "      <td>1707.4</td>\n",
       "      <td>286.898</td>\n",
       "      <td>470.045</td>\n",
       "      <td>1886.9</td>\n",
       "      <td>28.98</td>\n",
       "      <td>139.7</td>\n",
       "      <td>2.82</td>\n",
       "      <td>5.8</td>\n",
       "      <td>177.146</td>\n",
       "      <td>0.00</td>\n",
       "      <td>0.00</td>\n",
       "    </tr>\n",
       "    <tr>\n",
       "      <th>1959Q2</th>\n",
       "      <td>1959.0</td>\n",
       "      <td>2.0</td>\n",
       "      <td>2778.801</td>\n",
       "      <td>1733.7</td>\n",
       "      <td>310.859</td>\n",
       "      <td>481.301</td>\n",
       "      <td>1919.7</td>\n",
       "      <td>29.15</td>\n",
       "      <td>141.7</td>\n",
       "      <td>3.08</td>\n",
       "      <td>5.1</td>\n",
       "      <td>177.830</td>\n",
       "      <td>2.34</td>\n",
       "      <td>0.74</td>\n",
       "    </tr>\n",
       "    <tr>\n",
       "      <th>1959Q3</th>\n",
       "      <td>1959.0</td>\n",
       "      <td>3.0</td>\n",
       "      <td>2775.488</td>\n",
       "      <td>1751.8</td>\n",
       "      <td>289.226</td>\n",
       "      <td>491.260</td>\n",
       "      <td>1916.4</td>\n",
       "      <td>29.35</td>\n",
       "      <td>140.5</td>\n",
       "      <td>3.82</td>\n",
       "      <td>5.3</td>\n",
       "      <td>178.657</td>\n",
       "      <td>2.74</td>\n",
       "      <td>1.09</td>\n",
       "    </tr>\n",
       "    <tr>\n",
       "      <th>1959Q4</th>\n",
       "      <td>1959.0</td>\n",
       "      <td>4.0</td>\n",
       "      <td>2785.204</td>\n",
       "      <td>1753.7</td>\n",
       "      <td>299.356</td>\n",
       "      <td>484.052</td>\n",
       "      <td>1931.3</td>\n",
       "      <td>29.37</td>\n",
       "      <td>140.0</td>\n",
       "      <td>4.33</td>\n",
       "      <td>5.6</td>\n",
       "      <td>179.386</td>\n",
       "      <td>0.27</td>\n",
       "      <td>4.06</td>\n",
       "    </tr>\n",
       "    <tr>\n",
       "      <th>1960Q1</th>\n",
       "      <td>1960.0</td>\n",
       "      <td>1.0</td>\n",
       "      <td>2847.699</td>\n",
       "      <td>1770.5</td>\n",
       "      <td>331.722</td>\n",
       "      <td>462.199</td>\n",
       "      <td>1955.5</td>\n",
       "      <td>29.54</td>\n",
       "      <td>139.6</td>\n",
       "      <td>3.50</td>\n",
       "      <td>5.2</td>\n",
       "      <td>180.007</td>\n",
       "      <td>2.31</td>\n",
       "      <td>1.19</td>\n",
       "    </tr>\n",
       "  </tbody>\n",
       "</table>\n",
       "</div>"
      ],
      "text/plain": [
       "          year  quarter   realgdp  realcons  realinv  realgovt  realdpi  \\\n",
       "1959Q1  1959.0      1.0  2710.349    1707.4  286.898   470.045   1886.9   \n",
       "1959Q2  1959.0      2.0  2778.801    1733.7  310.859   481.301   1919.7   \n",
       "1959Q3  1959.0      3.0  2775.488    1751.8  289.226   491.260   1916.4   \n",
       "1959Q4  1959.0      4.0  2785.204    1753.7  299.356   484.052   1931.3   \n",
       "1960Q1  1960.0      1.0  2847.699    1770.5  331.722   462.199   1955.5   \n",
       "\n",
       "          cpi     m1  tbilrate  unemp      pop  infl  realint  \n",
       "1959Q1  28.98  139.7      2.82    5.8  177.146  0.00     0.00  \n",
       "1959Q2  29.15  141.7      3.08    5.1  177.830  2.34     0.74  \n",
       "1959Q3  29.35  140.5      3.82    5.3  178.657  2.74     1.09  \n",
       "1959Q4  29.37  140.0      4.33    5.6  179.386  0.27     4.06  \n",
       "1960Q1  29.54  139.6      3.50    5.2  180.007  2.31     1.19  "
      ]
     },
     "execution_count": 15,
     "metadata": {},
     "output_type": "execute_result"
    }
   ],
   "source": [
    "macrodata.head()"
   ]
  },
  {
   "cell_type": "code",
   "execution_count": 16,
   "metadata": {
    "slideshow": {
     "slide_type": "subslide"
    }
   },
   "outputs": [
    {
     "data": {
      "text/plain": [
       "<matplotlib.axes._subplots.AxesSubplot at 0x11a8f4ef208>"
      ]
     },
     "execution_count": 16,
     "metadata": {},
     "output_type": "execute_result"
    },
    {
     "data": {
      "image/png": "[encoded data removed]",
      "text/plain": [
       "<Figure size 1080x360 with 1 Axes>"
      ]
     },
     "metadata": {
      "needs_background": "light"
     },
     "output_type": "display_data"
    }
   ],
   "source": [
    "endog = macrodata['infl']\n",
    "endog.plot(figsize=(15, 5))"
   ]
  },
  {
   "cell_type": "code",
   "execution_count": 17,
   "metadata": {
    "slideshow": {
     "slide_type": "slide"
    }
   },
   "outputs": [
    {
     "name": "stdout",
     "output_type": "stream",
     "text": [
      "                               SARIMAX Results                                \n",
      "==============================================================================\n",
      "Dep. Variable:                   infl   No. Observations:                  203\n",
      "Model:               SARIMAX(1, 0, 1)   Log Likelihood                -456.076\n",
      "Date:                Tue, 23 Jun 2020   AIC                            920.151\n",
      "Time:                        13:57:05   BIC                            933.404\n",
      "Sample:                    03-31-1959   HQIC                           925.513\n",
      "                         - 09-30-2009                                         \n",
      "Covariance Type:                  opg                                         \n",
      "==============================================================================\n",
      "                 coef    std err          z      P>|z|      [0.025      0.975]\n",
      "------------------------------------------------------------------------------\n",
      "intercept      0.2438      0.156      1.558      0.119      -0.063       0.551\n",
      "ar.L1          0.9340      0.030     31.179      0.000       0.875       0.993\n",
      "ma.L1         -0.5755      0.055    -10.556      0.000      -0.682      -0.469\n",
      "sigma2         5.2119      0.316     16.513      0.000       4.593       5.831\n",
      "===================================================================================\n",
      "Ljung-Box (Q):                       36.97   Jarque-Bera (JB):               178.46\n",
      "Prob(Q):                              0.61   Prob(JB):                         0.00\n",
      "Heteroskedasticity (H):               1.71   Skew:                            -0.82\n",
      "Prob(H) (two-sided):                  0.03   Kurtosis:                         7.29\n",
      "===================================================================================\n",
      "\n",
      "Warnings:\n",
      "[1] Covariance matrix calculated using the outer product of gradients (complex-step).\n"
     ]
    }
   ],
   "source": [
    "# Generar el modelo\n",
    "model = sm.tsa.SARIMAX(endog, order=(1,0,0), trend='c')\n",
    "\n",
    "# Estimar los parametros del modelo\n",
    "results = model.fit()\n",
    "\n",
    "print(results.summary())"
   ]
  },
  {
   "cell_type": "code",
   "execution_count": 18,
   "metadata": {},
   "outputs": [
    {
     "data": {
      "text/plain": [
       "pandas.core.series.Series"
      ]
     },
     "execution_count": 18,
     "metadata": {},
     "output_type": "execute_result"
    }
   ],
   "source": [
    "type(results.resid)"
   ]
  },
  {
   "cell_type": "markdown",
   "metadata": {
    "slideshow": {
     "slide_type": "skip"
    }
   },
   "source": [
    "## Funcion Impulso Respuesta\n",
    "\n",
    "Si se sabe que una serie temporal X es, o está bien representada por, un proceso $AR(1)$, entonces podríamos preguntarnos: ¿Cómo responde X a los shcoks? ¿Se amortigua con el tiempo o el efecto del shock es persistente? Es decir, es posible que deseemos saber cómo X responde a un shock en el tiempo. O, en el lenguaje del análisis de series de tiempo, **¿cuál es la función de respuesta al impulso de X (o impulso-respuesta)?** Una función de respuesta al impulso (FIR) rastrea el efecto de un choque articular (por ejemplo, $e_0$) en $X_0$, $X_1$, $X_2$ y los valores posteriores.\n",
    "\n",
    "Supongamos que $e$ recibe un shock único de una unidad en el período t; es decir, $e_t = 1$ en el período t solamente.\n",
    "\n",
    "$Xt = 0.75X_{t − 1} + e_t = 0.75 (0) + 1 = 1$\n",
    "\n",
    "¿Cómo afectará este shock los valores posteriores de Xt? \n",
    "\n",
    "$X_{t + 1} = 0.75 X_t + e_{t + 1} = 0.75 (1) + 0 = 0.75$\n",
    "\n",
    "$X_{t + 2} = 0.75 X_{t + 1} + e_{t + 2} = 0.75 (0.75) + 0 = 0.75^2$\n",
    "\n",
    "$X_{t + 3} = 0.75 X_{t + 2} + e_{t + 3} = 0.75 (0.75)^2 + 0 = 0.75^3$\n",
    "\n",
    "$X_{t + 4} = 0.75 X_{t + 3} + e_{t + 4} = 0.75 (0.75)^3 + 0 = 0.75^4$\n",
    "\n",
    "Por lo tanto, podemos ver que un shock de una sola unidad en X tiene una persistencia, pero decae exponencialmente. \n",
    "Es importante notar que el shock de una unidad  podría haber sido de cualquier tamaño que quisiéramos considerar. Una opción más común sería para medir el efecto de un shock de desviación estándar (de X)."
   ]
  },
  {
   "cell_type": "code",
   "execution_count": 19,
   "metadata": {
    "slideshow": {
     "slide_type": "slide"
    }
   },
   "outputs": [
    {
     "name": "stdout",
     "output_type": "stream",
     "text": [
      "[1.         0.8546     0.73034116 0.62414956 0.53339821 0.45584211\n",
      " 0.38956267 0.33292026 0.28451365 0.24314537]\n"
     ]
    }
   ],
   "source": [
    "FIR=tsa.arima_process.arma_impulse_response([1.0, -0.8546], [1.], leads=10)\n",
    "print(FIR)"
   ]
  },
  {
   "cell_type": "code",
   "execution_count": 20,
   "metadata": {
    "slideshow": {
     "slide_type": "subslide"
    }
   },
   "outputs": [
    {
     "data": {
      "text/plain": [
       "Text(0.5, 0, 'Tiempo')"
      ]
     },
     "execution_count": 20,
     "metadata": {},
     "output_type": "execute_result"
    },
    {
     "data": {
      "image/png": "[encoded data removed]",
      "text/plain": [
       "<Figure size 432x288 with 1 Axes>"
      ]
     },
     "metadata": {
      "needs_background": "light"
     },
     "output_type": "display_data"
    }
   ],
   "source": [
    "plt.plot(FIR)\n",
    "plt.title('Funcion Impulso-Respuesta') \n",
    "plt.ylabel('Shocks') \n",
    "plt.xlabel('Tiempo')"
   ]
  },
  {
   "cell_type": "markdown",
   "metadata": {
    "slideshow": {
     "slide_type": "skip"
    }
   },
   "source": [
    "## Pronostico (forecast)\n",
    "\n",
    "Supongamos que $X_t = 0.75X_{t − 1} + e_t$. Usualmente no sabemos cuáles son los términos de error, tenemos que estimarlos a través de los residuos, pero supongamos que los conocemos para que podamos entender mejor\n",
    "cómo evoluciona la variable $X_t$. Por ejemplo, supongamos que X0 = 100 y que\n",
    "los primeros cuatro términos de error, extraídos de una distribución $N(0, 100)$, resultan ser $e_t =\n",
    "[20, -30, 10, 15]$. Entonces los siguientes cuatro valores de $Xt$ son:\n",
    "\n",
    "$X_1 = 0.75X_0 + e_1 = 0.75 (100) + 20 = 95$\n",
    "\n",
    "$X_2 = 0.75X_1 + e_2 = 0.75 (95) - 30 = 41.25$\n",
    "\n",
    "$X_3 = 0.75X_2 + e_3 = 0.75 (41.25) + 10 = 40.9375$\n",
    "\n",
    "$X_4 = 0.75X_3 + e_4 = 0.75 (40.9375) + 15 = 45.7031$\n",
    "\n",
    "Pronosticando más allá de donde tenemos datos, solo podemos comentar sobre lo esperado valor de $X_5$, condicional a todos los datos anteriores:\n",
    "\n",
    "$\n",
    "\\begin{eqnarray}\n",
    "E(X_5| X_4, X_3,...) &=& E (0.75X_4 + e_5 | X_4, X_3,...)\\\\\n",
    "&=& E(0.75(45.7031) + e_5 | X_4, X_3,...)\\\\\n",
    "&=& E(34.27725 + e_5 | X_4, X_3,...)\\\\\n",
    "&=& 34.27725 + E(e_5 | X_4, X_3,...)\n",
    "\\end{eqnarray}\n",
    "$\n",
    "\n",
    "Dado que $et \\sim iidN (0, 1)$, entonces su expectativa es cero, entonces $E(X_5 | X_4, X_3,...) = 34.27725 + 0 = 34.27725$.\n",
    "¿Qué pasa si quisiéramos predecir X dos períodos? En otras palabras, ¿qué pasa si ¿tenía datos solo hasta el tiempo t = 4 y quería predecir X6? En símbolos, calcule: $E(X_6|X_4, X_3...)$. El truco es alimentar el pronóstico en sí mismo:\n",
    "\n",
    "$\n",
    "\\begin{eqnarray}\n",
    "E (X_6 | X_4, X_3...) &=& E (\\beta X_5 + e_6| X_4, X_3...)\\\\\n",
    "&=& \\beta E(X_5| X_4, X_3...) + E(e_6| X_4, X_3...)\\\\\n",
    "&=& 0,75 (34,27725) + E(0)\\\\\n",
    "&=& 25.7079\n",
    "\\end{eqnarray}\n",
    "$\n",
    "\n",
    "Repitiendo el procedimiento, el pronóstico de 2 períodos de X es\n",
    "\n",
    "$\n",
    "\\begin{eqnarray}\n",
    "E (X_{t + 2} | X_t, X_{t − 1},...) &=& E (\\beta (\\beta X_t + e_t + 1) + e_t + 2)\\\\\n",
    "&=& \\beta  \\beta X_t + \\beta E(e_{t + 1}) + E(e_{t + 2})\\\\\n",
    "&=& \\beta ^2X_t + \\beta (0) + 0\\\\\n",
    "&=& \\beta ^2X_t\n",
    "\\end{eqnarray}\n",
    "$\n",
    "\n",
    "\n",
    "Aún más generalmente, dados los datos hasta el período t, podemos esperar que el valor de $X_{t + a}$, es decir, un período por delante, será $E (X_{t + a} | X_t, X_{t − 1},...) = \\beta^aX_t$. Desde $\\mid\\beta\\mid<1$, esto significa que el pronóstico de un período por delante es una fracción de\n",
    "valor X de hoy. El pronóstico dos períodos por delante es el doble; los tres períodos\n",
    "El pronóstico anticipado es aún más pequeño. En el límite, se espera que X finalmente converja a\n",
    "su media que, en este caso, es igual a cero."
   ]
  },
  {
   "cell_type": "markdown",
   "metadata": {
    "slideshow": {
     "slide_type": "slide"
    }
   },
   "source": [
    "### Pronostico un solo periodo hacia adelante"
   ]
  },
  {
   "cell_type": "code",
   "execution_count": 21,
   "metadata": {
    "slideshow": {
     "slide_type": "subslide"
    }
   },
   "outputs": [
    {
     "data": {
      "text/plain": [
       "2009Q4    2.242634\n",
       "Freq: Q-DEC, dtype: float64"
      ]
     },
     "execution_count": 21,
     "metadata": {},
     "output_type": "execute_result"
    }
   ],
   "source": [
    "results.forecast()"
   ]
  },
  {
   "cell_type": "code",
   "execution_count": 22,
   "metadata": {
    "slideshow": {
     "slide_type": "subslide"
    }
   },
   "outputs": [
    {
     "name": "stdout",
     "output_type": "stream",
     "text": [
      "infl        mean   mean_se  mean_ci_lower  mean_ci_upper\n",
      "2009Q4  2.242634  2.282966      -2.231898       6.717166\n"
     ]
    }
   ],
   "source": [
    "# Aqui se construye un objeto mas completo para obtener pronostico\n",
    "fcast_res1 = results.get_forecast()\n",
    "\n",
    "#La mayoría de los resultados se recopilan en el atributo `summary_frame`.\n",
    "#Aquí especificamos que queremos un nivel de confianza del 95% (default)\n",
    "print(fcast_res1.summary_frame(alpha=0.05))"
   ]
  },
  {
   "cell_type": "markdown",
   "metadata": {
    "slideshow": {
     "slide_type": "subslide"
    }
   },
   "source": [
    "### Pronosticos de mas periodos"
   ]
  },
  {
   "cell_type": "code",
   "execution_count": 23,
   "metadata": {
    "slideshow": {
     "slide_type": "subslide"
    }
   },
   "outputs": [
    {
     "data": {
      "text/plain": [
       "2009Q4    2.242634\n",
       "2010Q1    2.338384\n",
       "2010Q2    2.427812\n",
       "2010Q3    2.511336\n",
       "2010Q4    2.589344\n",
       "2011Q1    2.662202\n",
       "2011Q2    2.730249\n",
       "2011Q3    2.793803\n",
       "2011Q4    2.853161\n",
       "2012Q1    2.908600\n",
       "2012Q2    2.960378\n",
       "2012Q3    3.008737\n",
       "Freq: Q-DEC, dtype: float64"
      ]
     },
     "execution_count": 23,
     "metadata": {},
     "output_type": "execute_result"
    }
   ],
   "source": [
    "results.forecast(steps=12)"
   ]
  },
  {
   "cell_type": "code",
   "execution_count": 24,
   "metadata": {
    "slideshow": {
     "slide_type": "subslide"
    }
   },
   "outputs": [
    {
     "name": "stdout",
     "output_type": "stream",
     "text": [
      "infl        mean   mean_se  mean_ci_lower  mean_ci_upper\n",
      "2009Q4  2.242634  2.282966      -2.231898       6.717166\n",
      "2010Q1  2.338384  2.425254      -2.415027       7.091796\n",
      "2010Q2  2.427812  2.542880      -2.556140       7.411765\n",
      "2010Q3  2.511336  2.641210      -2.665341       7.688012\n",
      "2010Q4  2.589344  2.724087      -2.749769       7.928457\n",
      "2011Q1  2.662202  2.794375      -2.814672       8.139076\n",
      "2011Q2  2.730249  2.854274      -2.864025       8.324524\n",
      "2011Q3  2.793803  2.905516      -2.900904       8.488510\n",
      "2011Q4  2.853161  2.949488      -2.927729       8.634051\n",
      "2012Q1  2.908600  2.987316      -2.946432       8.763632\n",
      "2012Q2  2.960378  3.019927      -2.958570       8.879326\n",
      "2012Q3  3.008737  3.048089      -2.965407       8.982881\n"
     ]
    }
   ],
   "source": [
    "fcast_res2 = results.get_forecast(steps=12)\n",
    "\n",
    "print(fcast_res2.summary_frame())"
   ]
  },
  {
   "cell_type": "code",
   "execution_count": 25,
   "metadata": {
    "slideshow": {
     "slide_type": "subslide"
    }
   },
   "outputs": [
    {
     "name": "stdout",
     "output_type": "stream",
     "text": [
      "2009Q4    2.242634\n",
      "2010Q1    2.338384\n",
      "2010Q2    2.427812\n",
      "2010Q3    2.511336\n",
      "2010Q4    2.589344\n",
      "2011Q1    2.662202\n",
      "2011Q2    2.730249\n",
      "Freq: Q-DEC, dtype: float64\n"
     ]
    }
   ],
   "source": [
    "print(results.forecast('2011Q2'))"
   ]
  },
  {
   "cell_type": "code",
   "execution_count": 26,
   "metadata": {
    "slideshow": {
     "slide_type": "subslide"
    }
   },
   "outputs": [
    {
     "name": "stdout",
     "output_type": "stream",
     "text": [
      "infl        mean   mean_se  mean_ci_lower  mean_ci_upper\n",
      "2009Q4  2.242634  2.282966      -2.231898       6.717166\n",
      "2010Q1  2.338384  2.425254      -2.415027       7.091796\n",
      "2010Q2  2.427812  2.542880      -2.556140       7.411765\n",
      "2010Q3  2.511336  2.641210      -2.665341       7.688012\n",
      "2010Q4  2.589344  2.724087      -2.749769       7.928457\n",
      "2011Q1  2.662202  2.794375      -2.814672       8.139076\n",
      "2011Q2  2.730249  2.854274      -2.864025       8.324524\n",
      "2011Q3  2.793803  2.905516      -2.900904       8.488510\n",
      "2011Q4  2.853161  2.949488      -2.927729       8.634051\n",
      "2012Q1  2.908600  2.987316      -2.946432       8.763632\n",
      "2012Q2  2.960378  3.019927      -2.958570       8.879326\n",
      "2012Q3  3.008737  3.048089      -2.965407       8.982881\n",
      "2012Q4  3.053903  3.072443      -2.967975       9.075781\n",
      "2013Q1  3.096087  3.093531      -2.967123       9.159298\n",
      "2013Q2  3.135486  3.111810      -2.963550       9.234522\n",
      "2013Q3  3.172283  3.127667      -2.957832       9.302399\n",
      "2013Q4  3.206651  3.141434      -2.950447       9.363749\n",
      "2014Q1  3.238749  3.153394      -2.941790       9.419288\n",
      "2014Q2  3.268728  3.163790      -2.932186       9.469643\n"
     ]
    }
   ],
   "source": [
    "fcast_res3 = results.get_forecast('2014Q2')\n",
    "print(fcast_res3.summary_frame())"
   ]
  },
  {
   "cell_type": "code",
   "execution_count": 27,
   "metadata": {
    "slideshow": {
     "slide_type": "subslide"
    }
   },
   "outputs": [
    {
     "data": {
      "image/png": "[encoded data removed]",
      "text/plain": [
       "<Figure size 1080x360 with 1 Axes>"
      ]
     },
     "metadata": {
      "needs_background": "light"
     },
     "output_type": "display_data"
    }
   ],
   "source": [
    "fig, ax = plt.subplots(figsize=(15, 5))\n",
    "\n",
    "# Plot the data (here we are subsetting it to get a better look at the forecasts)\n",
    "endog.loc['1999':].plot(ax=ax)\n",
    "\n",
    "# Construct the forecasts\n",
    "fcast = results.get_forecast('2014Q4').summary_frame()\n",
    "fcast['mean'].plot(ax=ax, style='k--')\n",
    "ax.fill_between(fcast.index, fcast['mean_ci_lower'], fcast['mean_ci_upper'], color='k', alpha=0.20);\n"
   ]
  },
  {
   "cell_type": "code",
   "execution_count": 28,
   "metadata": {
    "slideshow": {
     "slide_type": "subslide"
    }
   },
   "outputs": [
    {
     "data": {
      "text/plain": [
       "pandas.core.frame.DataFrame"
      ]
     },
     "execution_count": 28,
     "metadata": {},
     "output_type": "execute_result"
    }
   ],
   "source": [
    "type(fcast)"
   ]
  },
  {
   "cell_type": "markdown",
   "metadata": {
    "slideshow": {
     "slide_type": "slide"
    }
   },
   "source": [
    "### Predicción vs Pronóstico\n",
    "\n",
    "Los objetos de resultados también contienen dos métodos que sirven tanto para valores ajustados dentro de la muestra como para pronósticos fuera de la muestra. Son **predict** y **get_prediction**. El método de predicción solo devuelve predicciones de puntos (similar al pronóstico), mientras que el método get_prediction también devuelve resultados adicionales (similar a get_forecast).\n",
    "\n",
    "En general, si su interés es el pronóstico fuera de la muestra, es más fácil atenerse a los métodos de pronóstico y get_forecast."
   ]
  },
  {
   "cell_type": "markdown",
   "metadata": {
    "slideshow": {
     "slide_type": "skip"
    }
   },
   "source": [
    "## Modelo AR(1) con intercepto\n",
    "\n",
    "Considere un proceso AR (1) estacionario con un término constante adicional, $\\beta_0$:\n",
    "\n",
    "$X_t = \\beta_0 + \\beta_1X_{t − 1} + e_t$\n",
    "\n",
    "Tomando expectativas de ambos lados, tenemos\n",
    "\n",
    "$\n",
    "\\begin{eqnarray}\n",
    "E(X_t) &=& E(\\beta_0 + \\beta_1X_{t − 1} + e_t)\\\\\n",
    "&=& \\beta_0 + E (\\beta_1X_{t − 1}) + E (e_t)\\\\\n",
    "&=& \\beta_0 + \\beta_1E (X_{t − 1})\n",
    "\\end{eqnarray}\n",
    "$\n",
    "\n",
    "La media de estacionariedad (es decir, $E(X_t) = E(X_{t − 1})$) nos permite agrupar términos y simplificar\n",
    "más lejos,\n",
    "\n",
    "$\n",
    "\\begin{eqnarray}\n",
    "E (X_t) - \\beta_1 E(X_t) &=& \\beta_0\\\\\n",
    "E (X_t) (1 -  \\beta_1) &=& \\beta_0\\\\\n",
    "E (X_t) &=& \\frac{\\beta_0}{1 - \\beta_1}\\\\\n",
    "\\end{eqnarray}\n",
    "$\n",
    "\n",
    "La media de un proceso AR es proporcional a la constante, pero también está influenciada por la correlación de X con sus propios valores rezagados. ¿Cuál es la varianza de un proceso AR (1) distinto de cero?\n",
    "\n",
    "$\n",
    "\\begin{eqnarray}\n",
    "Var(X_t) &=& Var(\\beta_0 + \\beta_1 X_{t − 1} + e_t)\\\\\n",
    "&=& Var(\\beta_0 ) + Var(\\beta_1X_{t − 1}) + Var(e_t)\\\\\n",
    "&=& 0 + \\beta_1^2Var(X_{t − 1})+1\n",
    "\\end{eqnarray}\n",
    "$\n",
    "\n",
    "Por estacionariedad $Var(X_t) = Var(X_{t−1})$, tenemos:\n",
    "\n",
    "$\n",
    "\\begin{eqnarray}\n",
    "Var(X_t) &=& \\beta_1^2Var(X_{t})+1\\\\\n",
    "Var(X_t) &=& \\frac{1}{1-\\beta_1^2}\n",
    "\\end{eqnarray}\n",
    "$"
   ]
  },
  {
   "cell_type": "markdown",
   "metadata": {
    "slideshow": {
     "slide_type": "skip"
    }
   },
   "source": [
    "# Modelo MA(1)\n",
    "\n",
    "Los modelos ARMA se componen de dos partes, la segunda de las cuales se llama Moving Modelo promedio (o \"MA\"). Los modelos AR tenían X autocorrelacionadas porque X actual dependía directamente de los valores rezagados de los modelos X. MA, por otro lado tienen X autocorrelacionadas porque los errores están, en sí mismos, autocorrelacionados.\n",
    "\n",
    "El tipo más simple de modelo MA es:\n",
    "\n",
    "$\n",
    "\\begin{eqnarray}\n",
    "X_t &=& e_t\\\\\n",
    "e_t &=& u_t + \\beta u_t − 1 \\\\\n",
    "u_t &\\sim & iidN(\\mu, \\sigma^2_u)\n",
    "\\end{eqnarray}\n",
    "$\n",
    "\n",
    "Que se puede condensar a $X_t = u_t + \\beta u_{t − 1}$ \n",
    "\n",
    "Será útil diferenciar entre los errores ($e_t$) de los shocks aleatorios ($u_t$). Los términos de error ($e_t$) están autocorrelacionados. Se supone que los choques ($u_t$) son blancos ruido. Es decir, cada $u_t$ se extrae de la misma distribución Normal, independientemente de todos las otras realizaciones de $u_t$ en el mismo período de tiempo; por lo tanto, decimos que los $u_ t$ son independiente e idénticamente distribuido desde una distribución Normal.\n",
    "Tal modelo se llama modelo MA 1) porque el shock aparece en la ecuación $X_t = u_t + \\beta u_{t − 1}$) con un retraso de uno. \n",
    "\n",
    "Lo importante a tener en cuenta es que en este modelo los errores tienen un efecto directo sobre X más allá del término inmediato. Tienen algo de inercia. Observe que $E(u_{t 1}u_{t − 1})$ es equivalente a $E(u_{t − 1}u_{t − 2})$ debido a la estacionariedad. También, recuerde que $u_t \\sim iidN(\\mu, \\sigma^2_u)$ de modo que $ E(u^2_t)=\\sigma^2_u$.  Como los $u_t$ son todos independientes uno del otro, entonces siempre será el caso que: $E (u_tu_j) = 0$ para todo $t \\neq j$.\n",
    "Dado que los errores ($e_t$) en X están autocorrelacionados, entonces X también está autocorrelacionado."
   ]
  },
  {
   "cell_type": "markdown",
   "metadata": {
    "slideshow": {
     "slide_type": "slide"
    }
   },
   "source": [
    "## Estimaci\\'on de un modelo MA(1)"
   ]
  },
  {
   "cell_type": "code",
   "execution_count": 29,
   "metadata": {
    "scrolled": true,
    "slideshow": {
     "slide_type": "subslide"
    }
   },
   "outputs": [
    {
     "name": "stdout",
     "output_type": "stream",
     "text": [
      "                               SARIMAX Results                                \n",
      "==============================================================================\n",
      "Dep. Variable:                   infl   No. Observations:                  203\n",
      "Model:               SARIMAX(0, 0, 1)   Log Likelihood                -553.007\n",
      "Date:                Tue, 23 Jun 2020   AIC                           1110.014\n",
      "Time:                        13:57:06   BIC                           1116.640\n",
      "Sample:                    03-31-1959   HQIC                          1112.695\n",
      "                         - 09-30-2009                                         \n",
      "Covariance Type:                  opg                                         \n",
      "==============================================================================\n",
      "                 coef    std err          z      P>|z|      [0.025      0.975]\n",
      "------------------------------------------------------------------------------\n",
      "ma.L1          0.7037      0.046     15.136      0.000       0.613       0.795\n",
      "sigma2        13.5596      1.149     11.803      0.000      11.308      15.811\n",
      "===================================================================================\n",
      "Ljung-Box (Q):                      208.04   Jarque-Bera (JB):                70.72\n",
      "Prob(Q):                              0.00   Prob(JB):                         0.00\n",
      "Heteroskedasticity (H):               0.66   Skew:                             0.27\n",
      "Prob(H) (two-sided):                  0.09   Kurtosis:                         5.84\n",
      "===================================================================================\n",
      "\n",
      "Warnings:\n",
      "[1] Covariance matrix calculated using the outer product of gradients (complex-step).\n"
     ]
    }
   ],
   "source": [
    "# Generar el modelo\n",
    "model2 = sm.tsa.SARIMAX(endog, order=(0, 0, 1), trend=None)\n",
    "\n",
    "# Estimar los parametros del modelo\n",
    "results2 = model2.fit()\n",
    "\n",
    "print(results2.summary())"
   ]
  },
  {
   "cell_type": "markdown",
   "metadata": {
    "slideshow": {
     "slide_type": "slide"
    }
   },
   "source": [
    "## Pronostico un solo periodo hacia adelante"
   ]
  },
  {
   "cell_type": "code",
   "execution_count": 30,
   "metadata": {
    "slideshow": {
     "slide_type": "subslide"
    }
   },
   "outputs": [
    {
     "name": "stdout",
     "output_type": "stream",
     "text": [
      "infl       mean  mean_se  mean_ci_lower  mean_ci_upper\n",
      "2009Q4  1.69795  3.68234      -5.519304       8.915203\n"
     ]
    }
   ],
   "source": [
    "# Aqui se construye un objeto mas completo para obtener pronostico\n",
    "fcast_res2 = results2.get_forecast(steps=1)\n",
    "\n",
    "#La mayoría de los resultados se recopilan en el atributo `summary_frame`.\n",
    "#Aquí especificamos que queremos un nivel de confianza del 95% (default)\n",
    "print(fcast_res2.summary_frame(alpha=0.05))"
   ]
  },
  {
   "cell_type": "markdown",
   "metadata": {},
   "source": [
    "# Comandos útiles"
   ]
  },
  {
   "cell_type": "code",
   "execution_count": 31,
   "metadata": {},
   "outputs": [
    {
     "name": "stdout",
     "output_type": "stream",
     "text": [
      "Python versio is 3.7.6\n"
     ]
    }
   ],
   "source": [
    "from platform import python_version\n",
    "print('Python versio is', python_version())"
   ]
  },
  {
   "cell_type": "markdown",
   "metadata": {},
   "source": [
    "# Notas\n",
    "1. Figura tomada de Levendis,J.D. 2018. Time Series Econometrics: Learning Through Replications."
   ]
  }
 ],
 "metadata": {
  "celltoolbar": "Slideshow",
  "kernelspec": {
   "display_name": "Python 3",
   "language": "python",
   "name": "python3"
  },
  "language_info": {
   "codemirror_mode": {
    "name": "ipython",
    "version": 3
   },
   "file_extension": ".py",
   "mimetype": "text/x-python",
   "name": "python",
   "nbconvert_exporter": "python",
   "pygments_lexer": "ipython3",
   "version": "3.7.7"
  },
  "toc": {
   "base_numbering": 1,
   "nav_menu": {},
   "number_sections": true,
   "sideBar": true,
   "skip_h1_title": false,
   "title_cell": "Table of Contents",
   "title_sidebar": "Contents",
   "toc_cell": false,
   "toc_position": {
    "height": "calc(100% - 180px)",
    "left": "10px",
    "top": "150px",
    "width": "219px"
   },
   "toc_section_display": true,
   "toc_window_display": true
  },
  "varInspector": {
   "cols": {
    "lenName": 16,
    "lenType": 16,
    "lenVar": 40
   },
   "kernels_config": {
    "python": {
     "delete_cmd_postfix": "",
     "delete_cmd_prefix": "del ",
     "library": "var_list.py",
     "varRefreshCmd": "print(var_dic_list())"
    },
    "r": {
     "delete_cmd_postfix": ") ",
     "delete_cmd_prefix": "rm(",
     "library": "var_list.r",
     "varRefreshCmd": "cat(var_dic_list()) "
    }
   },
   "types_to_exclude": [
    "module",
    "function",
    "builtin_function_or_method",
    "instance",
    "_Feature"
   ],
   "window_display": false
  }
 },
 "nbformat": 4,
 "nbformat_minor": 4
}
